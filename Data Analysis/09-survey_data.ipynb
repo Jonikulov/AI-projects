{
 "cells": [
  {
   "cell_type": "markdown",
   "id": "e67922c1-426b-4c03-858f-ead4babe8c9f",
   "metadata": {
    "tags": []
   },
   "source": [
    "# Data Analysis Project 9: Survey Dataset\n",
    "\n",
    "- https://youtu.be/uaLHWSgyrnQ?list=PLy3lFw0OTlutzXFVwttrtaRGEEyLEdnpy"
   ]
  },
  {
   "cell_type": "code",
   "execution_count": 1,
   "id": "7a57b09e-fb94-4bec-ae6d-bfd7f9960bad",
   "metadata": {},
   "outputs": [],
   "source": [
    "import numpy as np\n",
    "import pandas as pd"
   ]
  },
  {
   "cell_type": "markdown",
   "id": "84af6cb4-6edb-43a7-89f7-097297bce019",
   "metadata": {},
   "source": [
    "**Data Description:** \\\n",
    "A sample survey data (`sample_survey.csv`\n",
    ") is provided for analysis. Samples were collected over a period of nine days where the respondents were asked questions related to elections. Survey weights are in the \"weight\" column. Applicants are requested to use *python-pandas* for all data manipulations and *matplotlib* for any plotting related questions. Applicants are expected to not use *for-loops* or any kind of *iterations* for solving the questions. Use in built *pandas* functions only."
   ]
  },
  {
   "cell_type": "markdown",
   "id": "ba8d85ae-682d-4977-b8e6-6ab0ecfa01c1",
   "metadata": {},
   "source": [
    "## Q1) Load the dataset into a pandas dataframe. Name the variable as “survey”."
   ]
  },
  {
   "cell_type": "code",
   "execution_count": 2,
   "id": "342e1521-d342-4114-8576-19ea10960af4",
   "metadata": {},
   "outputs": [
    {
     "data": {
      "text/html": [
       "<div>\n",
       "<style scoped>\n",
       "    .dataframe tbody tr th:only-of-type {\n",
       "        vertical-align: middle;\n",
       "    }\n",
       "\n",
       "    .dataframe tbody tr th {\n",
       "        vertical-align: top;\n",
       "    }\n",
       "\n",
       "    .dataframe thead th {\n",
       "        text-align: right;\n",
       "    }\n",
       "</style>\n",
       "<table border=\"1\" class=\"dataframe\">\n",
       "  <thead>\n",
       "    <tr style=\"text-align: right;\">\n",
       "      <th></th>\n",
       "      <th>collection_date</th>\n",
       "      <th>urban_rural</th>\n",
       "      <th>education</th>\n",
       "      <th>income</th>\n",
       "      <th>Vote_Now</th>\n",
       "      <th>Past_Vote</th>\n",
       "      <th>CM_satisfaction</th>\n",
       "      <th>MLA_satisfaction</th>\n",
       "      <th>age</th>\n",
       "      <th>gender</th>\n",
       "      <th>assembly_no</th>\n",
       "      <th>category</th>\n",
       "      <th>weight</th>\n",
       "    </tr>\n",
       "    <tr>\n",
       "      <th>response_id</th>\n",
       "      <th></th>\n",
       "      <th></th>\n",
       "      <th></th>\n",
       "      <th></th>\n",
       "      <th></th>\n",
       "      <th></th>\n",
       "      <th></th>\n",
       "      <th></th>\n",
       "      <th></th>\n",
       "      <th></th>\n",
       "      <th></th>\n",
       "      <th></th>\n",
       "      <th></th>\n",
       "    </tr>\n",
       "  </thead>\n",
       "  <tbody>\n",
       "    <tr>\n",
       "      <th>1</th>\n",
       "      <td>5-24-2017</td>\n",
       "      <td>Rural</td>\n",
       "      <td>12th Pass</td>\n",
       "      <td>₹ 30,000 - ₹ 50,000</td>\n",
       "      <td>BJP</td>\n",
       "      <td>BJP</td>\n",
       "      <td>Fully Dissatisfied</td>\n",
       "      <td>Fully Dissatisfied</td>\n",
       "      <td>26</td>\n",
       "      <td>Male</td>\n",
       "      <td>211</td>\n",
       "      <td>Gen</td>\n",
       "      <td>0.346969</td>\n",
       "    </tr>\n",
       "    <tr>\n",
       "      <th>2</th>\n",
       "      <td>5-24-2017</td>\n",
       "      <td>Rural</td>\n",
       "      <td>Graduate</td>\n",
       "      <td>₹ 20,000 - ₹ 30,000</td>\n",
       "      <td>RLSP</td>\n",
       "      <td>JD(U)</td>\n",
       "      <td>Somewhat Satisfied</td>\n",
       "      <td>Fully Dissatisfied</td>\n",
       "      <td>34</td>\n",
       "      <td>Male</td>\n",
       "      <td>189</td>\n",
       "      <td>BC</td>\n",
       "      <td>0.603419</td>\n",
       "    </tr>\n",
       "    <tr>\n",
       "      <th>3</th>\n",
       "      <td>5-24-2017</td>\n",
       "      <td>Rural</td>\n",
       "      <td>Graduate</td>\n",
       "      <td>₹ 5,000 - ₹ 10,000</td>\n",
       "      <td>JAP(L)</td>\n",
       "      <td>BJP</td>\n",
       "      <td>Fully Dissatisfied</td>\n",
       "      <td>Somewhat Satisfied</td>\n",
       "      <td>25</td>\n",
       "      <td>Male</td>\n",
       "      <td>191</td>\n",
       "      <td>Gen</td>\n",
       "      <td>0.673762</td>\n",
       "    </tr>\n",
       "    <tr>\n",
       "      <th>4</th>\n",
       "      <td>5-24-2017</td>\n",
       "      <td>Urban</td>\n",
       "      <td>Graduate</td>\n",
       "      <td>₹ 10,000 - ₹ 20,000</td>\n",
       "      <td>RJD</td>\n",
       "      <td>RJD</td>\n",
       "      <td>Fully Dissatisfied</td>\n",
       "      <td>Somewhat Satisfied</td>\n",
       "      <td>36</td>\n",
       "      <td>Male</td>\n",
       "      <td>194</td>\n",
       "      <td>Gen</td>\n",
       "      <td>1.101298</td>\n",
       "    </tr>\n",
       "    <tr>\n",
       "      <th>5</th>\n",
       "      <td>5-24-2017</td>\n",
       "      <td>Rural</td>\n",
       "      <td>Graduate</td>\n",
       "      <td>₹ 50,000 - ₹ 80,000</td>\n",
       "      <td>JD(U)</td>\n",
       "      <td>Did not vote</td>\n",
       "      <td>Fully Satisfied</td>\n",
       "      <td>Fully Satisfied</td>\n",
       "      <td>22</td>\n",
       "      <td>Male</td>\n",
       "      <td>176</td>\n",
       "      <td>BC</td>\n",
       "      <td>0.333505</td>\n",
       "    </tr>\n",
       "  </tbody>\n",
       "</table>\n",
       "</div>"
      ],
      "text/plain": [
       "            collection_date urban_rural  education               income  \\\n",
       "response_id                                                               \n",
       "1                 5-24-2017       Rural  12th Pass  ₹ 30,000 - ₹ 50,000   \n",
       "2                 5-24-2017       Rural   Graduate  ₹ 20,000 - ₹ 30,000   \n",
       "3                 5-24-2017       Rural   Graduate   ₹ 5,000 - ₹ 10,000   \n",
       "4                 5-24-2017       Urban   Graduate  ₹ 10,000 - ₹ 20,000   \n",
       "5                 5-24-2017       Rural   Graduate  ₹ 50,000 - ₹ 80,000   \n",
       "\n",
       "            Vote_Now     Past_Vote     CM_satisfaction    MLA_satisfaction  \\\n",
       "response_id                                                                  \n",
       "1                BJP           BJP  Fully Dissatisfied  Fully Dissatisfied   \n",
       "2               RLSP         JD(U)  Somewhat Satisfied  Fully Dissatisfied   \n",
       "3             JAP(L)           BJP  Fully Dissatisfied  Somewhat Satisfied   \n",
       "4                RJD           RJD  Fully Dissatisfied  Somewhat Satisfied   \n",
       "5              JD(U)  Did not vote     Fully Satisfied     Fully Satisfied   \n",
       "\n",
       "            age gender  assembly_no category    weight  \n",
       "response_id                                             \n",
       "1            26   Male          211      Gen  0.346969  \n",
       "2            34   Male          189       BC  0.603419  \n",
       "3            25   Male          191      Gen  0.673762  \n",
       "4            36   Male          194      Gen  1.101298  \n",
       "5            22   Male          176       BC  0.333505  "
      ]
     },
     "execution_count": 2,
     "metadata": {},
     "output_type": "execute_result"
    }
   ],
   "source": [
    "survey = pd.read_csv(\"data/sample_survey.csv\", index_col=0)\n",
    "survey.head()"
   ]
  },
  {
   "cell_type": "markdown",
   "id": "31ca5343-169f-4ef6-89cb-22ec6cf7b1b3",
   "metadata": {},
   "source": [
    "## Q2) How many samples were collected on each day?"
   ]
  },
  {
   "cell_type": "code",
   "execution_count": 3,
   "id": "3695780f-7c96-4210-828f-d7afe04f65b8",
   "metadata": {},
   "outputs": [
    {
     "data": {
      "text/plain": [
       "response_id\n",
       "1      2017-05-24\n",
       "2      2017-05-24\n",
       "3      2017-05-24\n",
       "4      2017-05-24\n",
       "5      2017-05-24\n",
       "          ...    \n",
       "6863   2017-06-01\n",
       "6864   2017-06-01\n",
       "6865   2017-06-01\n",
       "6866   2017-06-01\n",
       "6867   2017-06-01\n",
       "Name: collection_date, Length: 6867, dtype: datetime64[ns]"
      ]
     },
     "execution_count": 3,
     "metadata": {},
     "output_type": "execute_result"
    }
   ],
   "source": [
    "survey['collection_date'] = pd.to_datetime(survey['collection_date'])\n",
    "survey['collection_date']"
   ]
  },
  {
   "cell_type": "code",
   "execution_count": 4,
   "id": "6af18b2d-5d4f-496e-9bb8-b9625806b762",
   "metadata": {},
   "outputs": [
    {
     "data": {
      "text/plain": [
       "collection_date\n",
       "2017-05-24    1479\n",
       "2017-05-25     998\n",
       "2017-05-28     761\n",
       "2017-05-27     665\n",
       "2017-05-29     620\n",
       "2017-06-01     607\n",
       "2017-05-26     598\n",
       "2017-05-30     582\n",
       "2017-05-31     557\n",
       "Name: count, dtype: int64"
      ]
     },
     "execution_count": 4,
     "metadata": {},
     "output_type": "execute_result"
    }
   ],
   "source": [
    "survey['collection_date'].value_counts()"
   ]
  },
  {
   "cell_type": "markdown",
   "id": "383aea70-df96-4287-a351-eddc9f7718d5",
   "metadata": {},
   "source": [
    "## Q3) What proportion of the total respondents were aged less than 45?"
   ]
  },
  {
   "cell_type": "code",
   "execution_count": 5,
   "id": "f280d3cb-f5f9-4e3a-9922-9f6becff02aa",
   "metadata": {},
   "outputs": [
    {
     "data": {
      "text/plain": [
       "array(['26', '34', '25', '36', '22', '38', '23', '42', '51', '29', '24',\n",
       "       '30', '39', '37', '19', '44', '53', '32', '21', '18', '20', '27',\n",
       "       '48', '28', '45', '74', '35', '31', '70', '40', '49', '46', '43',\n",
       "       '41', '33', '58', '24ko', '56', '50', '55', '54', '62', '60', '59',\n",
       "       '47', '61', '52', '66', '57', '67', '65', '71', '63', '64', '68',\n",
       "       '69', '99', '72', '75', '76'], dtype=object)"
      ]
     },
     "execution_count": 5,
     "metadata": {},
     "output_type": "execute_result"
    }
   ],
   "source": [
    "survey['age'].unique()"
   ]
  },
  {
   "cell_type": "code",
   "execution_count": 6,
   "id": "d276d3fa-2304-46c3-bdc8-9dd9d1fde833",
   "metadata": {},
   "outputs": [
    {
     "name": "stderr",
     "output_type": "stream",
     "text": [
      "C:\\Users\\JAVOHIR\\AppData\\Local\\Temp\\ipykernel_13480\\799137918.py:1: SettingWithCopyWarning: \n",
      "A value is trying to be set on a copy of a slice from a DataFrame\n",
      "\n",
      "See the caveats in the documentation: https://pandas.pydata.org/pandas-docs/stable/user_guide/indexing.html#returning-a-view-versus-a-copy\n",
      "  survey['age'][survey['age']=='24ko'] = 24\n"
     ]
    }
   ],
   "source": [
    "survey['age'][survey['age']=='24ko'] = 24"
   ]
  },
  {
   "cell_type": "code",
   "execution_count": 7,
   "id": "2f468660-f75d-4739-9bc2-266ace0016ba",
   "metadata": {},
   "outputs": [],
   "source": [
    "survey['age'] = survey['age'].astype(int)"
   ]
  },
  {
   "cell_type": "code",
   "execution_count": 8,
   "id": "d3bd5fa2-2078-4f2e-8484-1819c6a039bb",
   "metadata": {},
   "outputs": [
    {
     "data": {
      "text/plain": [
       "93.18479685452162"
      ]
     },
     "execution_count": 8,
     "metadata": {},
     "output_type": "execute_result"
    }
   ],
   "source": [
    "survey[survey['age'] < 45].shape[0] / survey.shape[0] * 100"
   ]
  },
  {
   "cell_type": "markdown",
   "id": "f24b0f9d-18a1-41ab-a948-61c9bd1f1b56",
   "metadata": {},
   "source": [
    "## Q4) Create a new column in the dataframe “age_group”. This column should contain the age group the respondent belongs to. The age groups are 18-25, 25-40, 40-55 and 55+. The dataframe should look like this after the column creation:\n",
    "\n",
    "|response_id|age|age_group|\n",
    "|:-|:-|:-|\n",
    "|1|26|25-40|\n",
    "|2|34|25-40|\n",
    "|3|25|25-40|\n",
    "|4|66|55+|"
   ]
  },
  {
   "cell_type": "code",
   "execution_count": 9,
   "id": "8b5b9679-0cb6-49d7-8e4c-2420c472c92f",
   "metadata": {},
   "outputs": [
    {
     "name": "stdout",
     "output_type": "stream",
     "text": [
      "18\n",
      "99\n"
     ]
    }
   ],
   "source": [
    "print(survey['age'].min())\n",
    "print(survey['age'].max())"
   ]
  },
  {
   "cell_type": "code",
   "execution_count": 10,
   "id": "0dec3306-f2ad-4789-ac35-c8be25560012",
   "metadata": {},
   "outputs": [],
   "source": [
    "survey['age_group'] = pd.cut(x=survey['age'],\n",
    "                             bins=[18, 25, 40, 55, 100],\n",
    "                             right=False,\n",
    "                             labels=['18-25', '25-40', '40-55', '55+']\n",
    "                            )"
   ]
  },
  {
   "cell_type": "code",
   "execution_count": 11,
   "id": "338995f5-6f12-4f46-a877-fc15f43e361e",
   "metadata": {},
   "outputs": [
    {
     "data": {
      "text/html": [
       "<div>\n",
       "<style scoped>\n",
       "    .dataframe tbody tr th:only-of-type {\n",
       "        vertical-align: middle;\n",
       "    }\n",
       "\n",
       "    .dataframe tbody tr th {\n",
       "        vertical-align: top;\n",
       "    }\n",
       "\n",
       "    .dataframe thead th {\n",
       "        text-align: right;\n",
       "    }\n",
       "</style>\n",
       "<table border=\"1\" class=\"dataframe\">\n",
       "  <thead>\n",
       "    <tr style=\"text-align: right;\">\n",
       "      <th></th>\n",
       "      <th>collection_date</th>\n",
       "      <th>urban_rural</th>\n",
       "      <th>education</th>\n",
       "      <th>income</th>\n",
       "      <th>Vote_Now</th>\n",
       "      <th>Past_Vote</th>\n",
       "      <th>CM_satisfaction</th>\n",
       "      <th>MLA_satisfaction</th>\n",
       "      <th>age</th>\n",
       "      <th>gender</th>\n",
       "      <th>assembly_no</th>\n",
       "      <th>category</th>\n",
       "      <th>weight</th>\n",
       "      <th>age_group</th>\n",
       "    </tr>\n",
       "    <tr>\n",
       "      <th>response_id</th>\n",
       "      <th></th>\n",
       "      <th></th>\n",
       "      <th></th>\n",
       "      <th></th>\n",
       "      <th></th>\n",
       "      <th></th>\n",
       "      <th></th>\n",
       "      <th></th>\n",
       "      <th></th>\n",
       "      <th></th>\n",
       "      <th></th>\n",
       "      <th></th>\n",
       "      <th></th>\n",
       "      <th></th>\n",
       "    </tr>\n",
       "  </thead>\n",
       "  <tbody>\n",
       "    <tr>\n",
       "      <th>1467</th>\n",
       "      <td>2017-05-25</td>\n",
       "      <td>Rural</td>\n",
       "      <td>Graduate</td>\n",
       "      <td>₹ 1,50,000 &amp; above</td>\n",
       "      <td>NOTA</td>\n",
       "      <td>NOTA</td>\n",
       "      <td>Fully Dissatisfied</td>\n",
       "      <td>Somewhat Satisfied</td>\n",
       "      <td>26</td>\n",
       "      <td>Male</td>\n",
       "      <td>132</td>\n",
       "      <td>Gen</td>\n",
       "      <td>0.056826</td>\n",
       "      <td>25-40</td>\n",
       "    </tr>\n",
       "    <tr>\n",
       "      <th>1247</th>\n",
       "      <td>2017-06-01</td>\n",
       "      <td>Rural</td>\n",
       "      <td>12th Pass</td>\n",
       "      <td>₹ 30,000 - ₹ 50,000</td>\n",
       "      <td>BJP</td>\n",
       "      <td>Did not vote</td>\n",
       "      <td>Somewhat Satisfied</td>\n",
       "      <td>Fully Dissatisfied</td>\n",
       "      <td>32</td>\n",
       "      <td>Male</td>\n",
       "      <td>198</td>\n",
       "      <td>Gen</td>\n",
       "      <td>0.275509</td>\n",
       "      <td>25-40</td>\n",
       "    </tr>\n",
       "    <tr>\n",
       "      <th>6625</th>\n",
       "      <td>2017-05-30</td>\n",
       "      <td>Rural</td>\n",
       "      <td>12th Pass</td>\n",
       "      <td>₹ 5,000 - ₹ 10,000</td>\n",
       "      <td>BJP</td>\n",
       "      <td>Did not vote</td>\n",
       "      <td>Fully Dissatisfied</td>\n",
       "      <td>Fully Dissatisfied</td>\n",
       "      <td>19</td>\n",
       "      <td>Male</td>\n",
       "      <td>164</td>\n",
       "      <td>Gen</td>\n",
       "      <td>0.137459</td>\n",
       "      <td>18-25</td>\n",
       "    </tr>\n",
       "    <tr>\n",
       "      <th>345</th>\n",
       "      <td>2017-05-24</td>\n",
       "      <td>Urban</td>\n",
       "      <td>Post - Graduation</td>\n",
       "      <td>₹ 30,000 - ₹ 50,000</td>\n",
       "      <td>BJP</td>\n",
       "      <td>Did not vote</td>\n",
       "      <td>Somewhat Satisfied</td>\n",
       "      <td>Somewhat Dissatisfied</td>\n",
       "      <td>25</td>\n",
       "      <td>Male</td>\n",
       "      <td>184</td>\n",
       "      <td>Gen</td>\n",
       "      <td>0.148987</td>\n",
       "      <td>25-40</td>\n",
       "    </tr>\n",
       "    <tr>\n",
       "      <th>6538</th>\n",
       "      <td>2017-05-29</td>\n",
       "      <td>Rural</td>\n",
       "      <td>Graduate</td>\n",
       "      <td>₹ 80,000 - ₹ 1,50,000</td>\n",
       "      <td>Undecided</td>\n",
       "      <td>Others</td>\n",
       "      <td>Somewhat Satisfied</td>\n",
       "      <td>Fully Dissatisfied</td>\n",
       "      <td>25</td>\n",
       "      <td>Male</td>\n",
       "      <td>168</td>\n",
       "      <td>Gen</td>\n",
       "      <td>0.185382</td>\n",
       "      <td>25-40</td>\n",
       "    </tr>\n",
       "  </tbody>\n",
       "</table>\n",
       "</div>"
      ],
      "text/plain": [
       "            collection_date urban_rural          education  \\\n",
       "response_id                                                  \n",
       "1467             2017-05-25       Rural           Graduate   \n",
       "1247             2017-06-01       Rural          12th Pass   \n",
       "6625             2017-05-30       Rural          12th Pass   \n",
       "345              2017-05-24       Urban  Post - Graduation   \n",
       "6538             2017-05-29       Rural           Graduate   \n",
       "\n",
       "                            income   Vote_Now     Past_Vote  \\\n",
       "response_id                                                   \n",
       "1467            ₹ 1,50,000 & above       NOTA          NOTA   \n",
       "1247           ₹ 30,000 - ₹ 50,000        BJP  Did not vote   \n",
       "6625            ₹ 5,000 - ₹ 10,000        BJP  Did not vote   \n",
       "345            ₹ 30,000 - ₹ 50,000        BJP  Did not vote   \n",
       "6538         ₹ 80,000 - ₹ 1,50,000  Undecided        Others   \n",
       "\n",
       "                CM_satisfaction       MLA_satisfaction  age gender  \\\n",
       "response_id                                                          \n",
       "1467         Fully Dissatisfied     Somewhat Satisfied   26   Male   \n",
       "1247         Somewhat Satisfied     Fully Dissatisfied   32   Male   \n",
       "6625         Fully Dissatisfied     Fully Dissatisfied   19   Male   \n",
       "345          Somewhat Satisfied  Somewhat Dissatisfied   25   Male   \n",
       "6538         Somewhat Satisfied     Fully Dissatisfied   25   Male   \n",
       "\n",
       "             assembly_no category    weight age_group  \n",
       "response_id                                            \n",
       "1467                 132      Gen  0.056826     25-40  \n",
       "1247                 198      Gen  0.275509     25-40  \n",
       "6625                 164      Gen  0.137459     18-25  \n",
       "345                  184      Gen  0.148987     25-40  \n",
       "6538                 168      Gen  0.185382     25-40  "
      ]
     },
     "execution_count": 11,
     "metadata": {},
     "output_type": "execute_result"
    }
   ],
   "source": [
    "survey.sample(5)"
   ]
  },
  {
   "cell_type": "markdown",
   "id": "c49ba4d8-5cca-4b25-ab77-bcf820393d7d",
   "metadata": {},
   "source": [
    "## Q5) How many samples were collected for each age-group? Which age-group had the most samples?"
   ]
  },
  {
   "cell_type": "code",
   "execution_count": 12,
   "id": "f597eb5d-6d51-44f4-9ef2-3a7de74bd366",
   "metadata": {},
   "outputs": [
    {
     "data": {
      "text/plain": [
       "age_group\n",
       "25-40    3844\n",
       "18-25    2094\n",
       "40-55     801\n",
       "55+       128\n",
       "Name: count, dtype: int64"
      ]
     },
     "execution_count": 12,
     "metadata": {},
     "output_type": "execute_result"
    }
   ],
   "source": [
    "survey['age_group'].value_counts()"
   ]
  },
  {
   "cell_type": "markdown",
   "id": "c59a5ebd-43aa-4796-aaef-d4cc4010390d",
   "metadata": {},
   "source": [
    "## Q6) What proportion of the respondents had opted for the **RJD** party in both the Vote_Now and the Past_Vote questions?"
   ]
  },
  {
   "cell_type": "code",
   "execution_count": 13,
   "id": "80d39f2f-1388-4d17-a753-7f64d0652a55",
   "metadata": {},
   "outputs": [
    {
     "data": {
      "text/plain": [
       "11.810106305519149"
      ]
     },
     "execution_count": 13,
     "metadata": {},
     "output_type": "execute_result"
    }
   ],
   "source": [
    "mask = (survey['Vote_Now']=='RJD') & (survey['Past_Vote']=='RJD')\n",
    "survey[mask].shape[0] / survey.shape[0] * 100"
   ]
  },
  {
   "cell_type": "markdown",
   "id": "dc4d8dcb-38d0-4280-8db3-89c724244896",
   "metadata": {},
   "source": [
    "## Q7) For each day of sample collection, determine the proportion of respondents who were fully satisfied with the performance of the CM. So if there were a total of 1000 samples on day 1 and 300 out of those said they were fully satisfied, then our answer for that day would be 0.3."
   ]
  },
  {
   "cell_type": "code",
   "execution_count": 29,
   "id": "d545f32c-b069-40d7-9d47-75415e97deae",
   "metadata": {},
   "outputs": [
    {
     "ename": "TypeError",
     "evalue": "unhashable type: 'DataFrame'",
     "output_type": "error",
     "traceback": [
      "\u001b[1;31m---------------------------------------------------------------------------\u001b[0m",
      "\u001b[1;31mTypeError\u001b[0m                                 Traceback (most recent call last)",
      "Cell \u001b[1;32mIn[29], line 4\u001b[0m\n\u001b[0;32m      1\u001b[0m mask \u001b[38;5;241m=\u001b[39m survey[\u001b[38;5;124m'\u001b[39m\u001b[38;5;124mCM_satisfaction\u001b[39m\u001b[38;5;124m'\u001b[39m]\u001b[38;5;241m==\u001b[39m\u001b[38;5;124m'\u001b[39m\u001b[38;5;124mFully Satisfied\u001b[39m\u001b[38;5;124m'\u001b[39m\n\u001b[0;32m      3\u001b[0m survey[\u001b[38;5;124m'\u001b[39m\u001b[38;5;124mcollection_date\u001b[39m\u001b[38;5;124m'\u001b[39m]\u001b[38;5;241m.\u001b[39mvalue_counts()\n\u001b[1;32m----> 4\u001b[0m \u001b[43msurvey\u001b[49m\u001b[38;5;241;43m.\u001b[39;49m\u001b[43mgroupby\u001b[49m\u001b[43m(\u001b[49m\u001b[38;5;124;43m'\u001b[39;49m\u001b[38;5;124;43mcollection_date\u001b[39;49m\u001b[38;5;124;43m'\u001b[39;49m\u001b[43m)\u001b[49m\u001b[43m[\u001b[49m\u001b[43msurvey\u001b[49m\u001b[43m[\u001b[49m\u001b[43mmask\u001b[49m\u001b[43m]\u001b[49m\u001b[43m]\u001b[49m\n",
      "File \u001b[1;32m~\\miniconda3\\envs\\mohirdsai\\lib\\site-packages\\pandas\\core\\groupby\\generic.py:1961\u001b[0m, in \u001b[0;36mDataFrameGroupBy.__getitem__\u001b[1;34m(self, key)\u001b[0m\n\u001b[0;32m   1954\u001b[0m \u001b[38;5;28;01mif\u001b[39;00m \u001b[38;5;28misinstance\u001b[39m(key, \u001b[38;5;28mtuple\u001b[39m) \u001b[38;5;129;01mand\u001b[39;00m \u001b[38;5;28mlen\u001b[39m(key) \u001b[38;5;241m>\u001b[39m \u001b[38;5;241m1\u001b[39m:\n\u001b[0;32m   1955\u001b[0m     \u001b[38;5;66;03m# if len == 1, then it becomes a SeriesGroupBy and this is actually\u001b[39;00m\n\u001b[0;32m   1956\u001b[0m     \u001b[38;5;66;03m# valid syntax, so don't raise\u001b[39;00m\n\u001b[0;32m   1957\u001b[0m     \u001b[38;5;28;01mraise\u001b[39;00m \u001b[38;5;167;01mValueError\u001b[39;00m(\n\u001b[0;32m   1958\u001b[0m         \u001b[38;5;124m\"\u001b[39m\u001b[38;5;124mCannot subset columns with a tuple with more than one element. \u001b[39m\u001b[38;5;124m\"\u001b[39m\n\u001b[0;32m   1959\u001b[0m         \u001b[38;5;124m\"\u001b[39m\u001b[38;5;124mUse a list instead.\u001b[39m\u001b[38;5;124m\"\u001b[39m\n\u001b[0;32m   1960\u001b[0m     )\n\u001b[1;32m-> 1961\u001b[0m \u001b[38;5;28;01mreturn\u001b[39;00m \u001b[38;5;28;43msuper\u001b[39;49m\u001b[43m(\u001b[49m\u001b[43m)\u001b[49m\u001b[38;5;241;43m.\u001b[39;49m\u001b[38;5;21;43m__getitem__\u001b[39;49m\u001b[43m(\u001b[49m\u001b[43mkey\u001b[49m\u001b[43m)\u001b[49m\n",
      "File \u001b[1;32m~\\miniconda3\\envs\\mohirdsai\\lib\\site-packages\\pandas\\core\\base.py:243\u001b[0m, in \u001b[0;36mSelectionMixin.__getitem__\u001b[1;34m(self, key)\u001b[0m\n\u001b[0;32m    240\u001b[0m     \u001b[38;5;28;01mreturn\u001b[39;00m \u001b[38;5;28mself\u001b[39m\u001b[38;5;241m.\u001b[39m_gotitem(\u001b[38;5;28mlist\u001b[39m(key), ndim\u001b[38;5;241m=\u001b[39m\u001b[38;5;241m2\u001b[39m)\n\u001b[0;32m    242\u001b[0m \u001b[38;5;28;01melse\u001b[39;00m:\n\u001b[1;32m--> 243\u001b[0m     \u001b[38;5;28;01mif\u001b[39;00m \u001b[43mkey\u001b[49m\u001b[43m \u001b[49m\u001b[38;5;129;43;01mnot\u001b[39;49;00m\u001b[43m \u001b[49m\u001b[38;5;129;43;01min\u001b[39;49;00m\u001b[43m \u001b[49m\u001b[38;5;28;43mself\u001b[39;49m\u001b[38;5;241;43m.\u001b[39;49m\u001b[43mobj\u001b[49m:\n\u001b[0;32m    244\u001b[0m         \u001b[38;5;28;01mraise\u001b[39;00m \u001b[38;5;167;01mKeyError\u001b[39;00m(\u001b[38;5;124mf\u001b[39m\u001b[38;5;124m\"\u001b[39m\u001b[38;5;124mColumn not found: \u001b[39m\u001b[38;5;132;01m{\u001b[39;00mkey\u001b[38;5;132;01m}\u001b[39;00m\u001b[38;5;124m\"\u001b[39m)\n\u001b[0;32m    245\u001b[0m     ndim \u001b[38;5;241m=\u001b[39m \u001b[38;5;28mself\u001b[39m\u001b[38;5;241m.\u001b[39mobj[key]\u001b[38;5;241m.\u001b[39mndim\n",
      "File \u001b[1;32m~\\miniconda3\\envs\\mohirdsai\\lib\\site-packages\\pandas\\core\\generic.py:2013\u001b[0m, in \u001b[0;36mNDFrame.__contains__\u001b[1;34m(self, key)\u001b[0m\n\u001b[0;32m   2010\u001b[0m \u001b[38;5;129m@final\u001b[39m\n\u001b[0;32m   2011\u001b[0m \u001b[38;5;28;01mdef\u001b[39;00m \u001b[38;5;21m__contains__\u001b[39m(\u001b[38;5;28mself\u001b[39m, key) \u001b[38;5;241m-\u001b[39m\u001b[38;5;241m>\u001b[39m bool_t:\n\u001b[0;32m   2012\u001b[0m \u001b[38;5;250m    \u001b[39m\u001b[38;5;124;03m\"\"\"True if the key is in the info axis\"\"\"\u001b[39;00m\n\u001b[1;32m-> 2013\u001b[0m     \u001b[38;5;28;01mreturn\u001b[39;00m \u001b[43mkey\u001b[49m\u001b[43m \u001b[49m\u001b[38;5;129;43;01min\u001b[39;49;00m\u001b[43m \u001b[49m\u001b[38;5;28;43mself\u001b[39;49m\u001b[38;5;241;43m.\u001b[39;49m\u001b[43m_info_axis\u001b[49m\n",
      "File \u001b[1;32m~\\miniconda3\\envs\\mohirdsai\\lib\\site-packages\\pandas\\core\\indexes\\base.py:5334\u001b[0m, in \u001b[0;36mIndex.__contains__\u001b[1;34m(self, key)\u001b[0m\n\u001b[0;32m   5299\u001b[0m \u001b[38;5;28;01mdef\u001b[39;00m \u001b[38;5;21m__contains__\u001b[39m(\u001b[38;5;28mself\u001b[39m, key: Any) \u001b[38;5;241m-\u001b[39m\u001b[38;5;241m>\u001b[39m \u001b[38;5;28mbool\u001b[39m:\n\u001b[0;32m   5300\u001b[0m \u001b[38;5;250m    \u001b[39m\u001b[38;5;124;03m\"\"\"\u001b[39;00m\n\u001b[0;32m   5301\u001b[0m \u001b[38;5;124;03m    Return a boolean indicating whether the provided key is in the index.\u001b[39;00m\n\u001b[0;32m   5302\u001b[0m \n\u001b[1;32m   (...)\u001b[0m\n\u001b[0;32m   5332\u001b[0m \u001b[38;5;124;03m    False\u001b[39;00m\n\u001b[0;32m   5333\u001b[0m \u001b[38;5;124;03m    \"\"\"\u001b[39;00m\n\u001b[1;32m-> 5334\u001b[0m     \u001b[38;5;28;43mhash\u001b[39;49m\u001b[43m(\u001b[49m\u001b[43mkey\u001b[49m\u001b[43m)\u001b[49m\n\u001b[0;32m   5335\u001b[0m     \u001b[38;5;28;01mtry\u001b[39;00m:\n\u001b[0;32m   5336\u001b[0m         \u001b[38;5;28;01mreturn\u001b[39;00m key \u001b[38;5;129;01min\u001b[39;00m \u001b[38;5;28mself\u001b[39m\u001b[38;5;241m.\u001b[39m_engine\n",
      "\u001b[1;31mTypeError\u001b[0m: unhashable type: 'DataFrame'"
     ]
    }
   ],
   "source": [
    "mask = survey['CM_satisfaction']=='Fully Satisfied'\n",
    "\n",
    "survey['collection_date'].value_counts()\n",
    "survey.groupby('collection_date')[mask]."
   ]
  },
  {
   "cell_type": "markdown",
   "id": "3a24a17b-c7d0-44ae-b82d-2774c2211c23",
   "metadata": {},
   "source": [
    "## Q8) In a similar fashion create a day-wise proportion of respondents that opted fully dissatisfied with their MLA. Create a line plot of the result with date on x-axis and proportions on the y-axis."
   ]
  },
  {
   "cell_type": "code",
   "execution_count": null,
   "id": "9600c624-b650-4245-9091-bc8d12ffb043",
   "metadata": {},
   "outputs": [],
   "source": []
  },
  {
   "cell_type": "markdown",
   "id": "295b3ff9-48ab-41ad-bd5e-e79329699487",
   "metadata": {},
   "source": [
    "## Q9) Create a pivot-table (or crosstab) with index as Past_Vote, Column as Vote_Now and cell values as the count of samples.\n",
    "Answer - survey.pivot_table(index = 'Past_Vote', columns = 'Vote_Now', values = 'response_id', aggfunc = 'count')"
   ]
  },
  {
   "cell_type": "code",
   "execution_count": null,
   "id": "c2b1c57d-3870-4155-b9d2-05ac8eb52976",
   "metadata": {},
   "outputs": [],
   "source": []
  },
  {
   "cell_type": "markdown",
   "id": "16b70f0c-e104-4e06-9f85-899a34b14aeb",
   "metadata": {},
   "source": [
    "## Q10) Repeat the above question with the cell values as the sum of “weight”."
   ]
  },
  {
   "cell_type": "code",
   "execution_count": null,
   "id": "6dff9154-f22a-402b-965d-1d18d9b49462",
   "metadata": {},
   "outputs": [],
   "source": []
  },
  {
   "cell_type": "markdown",
   "id": "22113b63-eee9-4756-8e03-f13b10ee1bac",
   "metadata": {},
   "source": [
    "## Q11) Create a dataframe by performing a group by over age_group and calculate the count of total samples under each age_group."
   ]
  },
  {
   "cell_type": "code",
   "execution_count": null,
   "id": "f2b7c9ea-b6d4-4c75-8932-d80d0ba09e18",
   "metadata": {},
   "outputs": [],
   "source": []
  },
  {
   "cell_type": "markdown",
   "id": "f4a5f96f-d221-4c66-8513-c559642a4cbf",
   "metadata": {},
   "source": [
    "## Q12) Create a dataframe by performing a group by over age_group and finding the count of total samples for each age_group that opted for the JD(U) party in Vote_Now."
   ]
  },
  {
   "cell_type": "code",
   "execution_count": null,
   "id": "8261ef79-a22d-405a-ab12-a0ea10fa1f94",
   "metadata": {},
   "outputs": [],
   "source": []
  },
  {
   "cell_type": "markdown",
   "id": "bafe1ce4-5909-404f-bec3-1827cd3067cd",
   "metadata": {},
   "source": [
    "## Q13) Join/Merge the two dataframes from questions 12 and 11 with the common column as age_group."
   ]
  },
  {
   "cell_type": "code",
   "execution_count": null,
   "id": "3a9f375e-3ec4-4282-9ef3-4a1347c5fa79",
   "metadata": {},
   "outputs": [],
   "source": []
  }
 ],
 "metadata": {
  "kernelspec": {
   "display_name": "Python 3 (ipykernel)",
   "language": "python",
   "name": "python3"
  },
  "language_info": {
   "codemirror_mode": {
    "name": "ipython",
    "version": 3
   },
   "file_extension": ".py",
   "mimetype": "text/x-python",
   "name": "python",
   "nbconvert_exporter": "python",
   "pygments_lexer": "ipython3",
   "version": "3.9.18"
  }
 },
 "nbformat": 4,
 "nbformat_minor": 5
}
